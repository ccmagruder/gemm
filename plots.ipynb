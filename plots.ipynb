{
 "cells": [
  {
   "cell_type": "code",
   "execution_count": null,
   "id": "7abd0a41-c6e2-4112-a065-4949b4d46690",
   "metadata": {},
   "outputs": [],
   "source": [
    "%load_ext autoreload\n",
    "%autoreload 2"
   ]
  },
  {
   "cell_type": "code",
   "execution_count": null,
   "id": "c0bbdf24-915f-4d99-9d63-601c6d29faa5",
   "metadata": {},
   "outputs": [],
   "source": [
    "from gemm import Results\n",
    "import polars as pl"
   ]
  },
  {
   "cell_type": "code",
   "execution_count": null,
   "id": "3ff08d8b-6bf2-4049-99b0-5ebaf20cf871",
   "metadata": {},
   "outputs": [],
   "source": [
    "(results := Results('bGemm.json', 'n')).context"
   ]
  },
  {
   "cell_type": "code",
   "execution_count": null,
   "id": "24edfe36-8468-4c7d-ae68-845292d809da",
   "metadata": {},
   "outputs": [],
   "source": [
    "results.filter(\"GemmNaive\", \"RoundTripCuBlas\", \"GemmMkl\").plot(x=\"n\", ref_exponent=3)"
   ]
  },
  {
   "cell_type": "code",
   "execution_count": null,
   "id": "1e0de6cb-b34d-43b8-a6f9-d042be96c3b0",
   "metadata": {},
   "outputs": [],
   "source": [
    "results.filter(\"GemmCuda\",\"GemmCuBlas\").plot(x=\"n\", ref_exponent=3)"
   ]
  },
  {
   "cell_type": "code",
   "execution_count": null,
   "id": "7236a4b5-acf2-4125-a289-57c7796fa5a1",
   "metadata": {},
   "outputs": [],
   "source": [
    "bGemmSweep = Results('bGemmSweep.json','blockDim.x','blockDim.y')"
   ]
  },
  {
   "cell_type": "code",
   "execution_count": null,
   "id": "f40892e0-c09d-4d4a-aab9-67d967c30c18",
   "metadata": {},
   "outputs": [],
   "source": [
    "bGemmSweep.filter(\"bCudaNaive\").df.pivot(on=\"blockDim.x\", index=\"blockDim.y\", values=\"cpu_time\")"
   ]
  },
  {
   "cell_type": "code",
   "execution_count": null,
   "id": "8b1e9a87-98a5-4dfb-ab06-decf15d441c6",
   "metadata": {},
   "outputs": [],
   "source": [
    "bGemmSweep.filter(\"bCudaSmemTiled\").df.pivot(on=\"blockDim.x\", index=\"blockDim.y\", values=\"cpu_time\")"
   ]
  }
 ],
 "metadata": {
  "kernelspec": {
   "display_name": "Python 3 (ipykernel)",
   "language": "python",
   "name": "python3"
  },
  "language_info": {
   "codemirror_mode": {
    "name": "ipython",
    "version": 3
   },
   "file_extension": ".py",
   "mimetype": "text/x-python",
   "name": "python",
   "nbconvert_exporter": "python",
   "pygments_lexer": "ipython3",
   "version": "3.13.1"
  }
 },
 "nbformat": 4,
 "nbformat_minor": 5
}
