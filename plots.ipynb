{
 "cells": [
  {
   "cell_type": "code",
   "execution_count": null,
   "id": "2bff01e6-a57a-4fe5-9eca-02c3f26aea02",
   "metadata": {},
   "outputs": [],
   "source": [
    "import json\n",
    "import matplotlib.pyplot as plt\n",
    "import numpy as np\n",
    "import pandas as pd\n",
    "import seaborn as sns"
   ]
  },
  {
   "cell_type": "code",
   "execution_count": null,
   "id": "61c98faf-4aaa-4552-a7c2-6a9e6caf1a2b",
   "metadata": {},
   "outputs": [],
   "source": [
    "class BenchmarkResults:\n",
    "    def __init__(self, filename):\n",
    "        with open(filename, 'r') as file:\n",
    "            data = json.load(file)\n",
    "        self.df = pd.DataFrame(data['benchmarks'])\n",
    "        self.df[['fixture_name','benchmark_name','n']] = self.df.name.str.split('/', expand=True)\n",
    "        self.df.n = self.df.n.astype(int)\n",
    "    def pivot(self):\n",
    "        return self.df.pivot(index='n', columns='benchmark_name', values='cpu_time')\n",
    "    def plot(self, *ref_complexity):\n",
    "        n = self.df.n.unique()\n",
    "        n_min, n_max = min(n), max(n)\n",
    "        # Compute the geometric mean of the benchmarks\n",
    "        y_geomean = np.exp(np.log(\n",
    "            self.df.groupby(\"benchmark_name\").cpu_time.first()\n",
    "        ).mean())\n",
    "        f, ax = plt.subplots(figsize=(8,4))\n",
    "        ax.set(xscale=\"log\", yscale=\"log\")\n",
    "        ax.set(xticks=n)\n",
    "        ax.set(xticklabels=n)\n",
    "        ax.minorticks_off()\n",
    "        sns.lineplot(ax=ax, data=self.df, x=\"n\", y=\"cpu_time\", hue=\"benchmark_name\", marker='o')\n",
    "        for exponent in ref_complexity:\n",
    "            ax.plot([n_min, n_max], [y_geomean, y_geomean * (n_max/n_min)**exponent], label=f\"O(N^{exponent})\", linestyle='--')\n",
    "        handles, labels = ax.get_legend_handles_labels()\n",
    "        ax.legend(handles, labels)"
   ]
  },
  {
   "cell_type": "code",
   "execution_count": null,
   "id": "a4ecda6b-75d5-4f51-81c0-0e75131a5d86",
   "metadata": {},
   "outputs": [],
   "source": [
    "(bGemm := BenchmarkResults('bGemm.json')).df.head(4)"
   ]
  },
  {
   "cell_type": "code",
   "execution_count": null,
   "id": "319a9e61-82ac-4614-aef3-e9a25d8c0524",
   "metadata": {},
   "outputs": [],
   "source": [
    "bGemm.pivot()"
   ]
  },
  {
   "cell_type": "code",
   "execution_count": null,
   "id": "d426e2da-ea87-4f57-a806-799255933c8c",
   "metadata": {},
   "outputs": [],
   "source": [
    "bGemm.plot(2, 3)"
   ]
  },
  {
   "cell_type": "code",
   "execution_count": null,
   "id": "7236a4b5-acf2-4125-a289-57c7796fa5a1",
   "metadata": {},
   "outputs": [],
   "source": [
    "(bGemmSweep := BenchmarkResults('bGemmSweep.json')).pivot()"
   ]
  },
  {
   "cell_type": "code",
   "execution_count": null,
   "id": "659e11fe-5dc5-4c47-b524-818779883ec7",
   "metadata": {},
   "outputs": [],
   "source": [
    "bGemmSweep.plot(-2)"
   ]
  }
 ],
 "metadata": {
  "kernelspec": {
   "display_name": "Python 3 (ipykernel)",
   "language": "python",
   "name": "python3"
  },
  "language_info": {
   "codemirror_mode": {
    "name": "ipython",
    "version": 3
   },
   "file_extension": ".py",
   "mimetype": "text/x-python",
   "name": "python",
   "nbconvert_exporter": "python",
   "pygments_lexer": "ipython3",
   "version": "3.13.1"
  }
 },
 "nbformat": 4,
 "nbformat_minor": 5
}
