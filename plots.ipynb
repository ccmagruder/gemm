{
 "cells": [
  {
   "cell_type": "code",
   "execution_count": null,
   "id": "2bff01e6-a57a-4fe5-9eca-02c3f26aea02",
   "metadata": {},
   "outputs": [],
   "source": [
    "import json\n",
    "import matplotlib.pyplot as plt\n",
    "import pandas as pd\n",
    "import seaborn as sns"
   ]
  },
  {
   "cell_type": "code",
   "execution_count": null,
   "id": "a4ecda6b-75d5-4f51-81c0-0e75131a5d86",
   "metadata": {},
   "outputs": [],
   "source": [
    "with open('bGemm.json', 'r') as file:\n",
    "    data = json.load(file)"
   ]
  },
  {
   "cell_type": "code",
   "execution_count": null,
   "id": "7236a4b5-acf2-4125-a289-57c7796fa5a1",
   "metadata": {},
   "outputs": [],
   "source": [
    "df = pd.DataFrame(data['benchmarks'])\n",
    "df[['fixture_name','benchmark_name','n']] = df.name.str.split('/', expand=True)\n",
    "df.n = df.n.astype(int)\n",
    "df"
   ]
  },
  {
   "cell_type": "code",
   "execution_count": null,
   "id": "d426e2da-ea87-4f57-a806-799255933c8c",
   "metadata": {},
   "outputs": [],
   "source": [
    "f, ax = plt.subplots(figsize=(8,4))\n",
    "ax.set(xscale=\"log\", yscale=\"log\")\n",
    "ax.set(xticks=[64,128,256])\n",
    "ax.set(xticklabels=[64,128,256])\n",
    "ax.minorticks_off()\n",
    "sns.lineplot(ax=ax, data=df, x=\"n\", y=\"cpu_time\", hue=\"benchmark_name\", marker='o')"
   ]
  }
 ],
 "metadata": {
  "kernelspec": {
   "display_name": "Python 3 (ipykernel)",
   "language": "python",
   "name": "python3"
  },
  "language_info": {
   "codemirror_mode": {
    "name": "ipython",
    "version": 3
   },
   "file_extension": ".py",
   "mimetype": "text/x-python",
   "name": "python",
   "nbconvert_exporter": "python",
   "pygments_lexer": "ipython3",
   "version": "3.13.0"
  }
 },
 "nbformat": 4,
 "nbformat_minor": 5
}
